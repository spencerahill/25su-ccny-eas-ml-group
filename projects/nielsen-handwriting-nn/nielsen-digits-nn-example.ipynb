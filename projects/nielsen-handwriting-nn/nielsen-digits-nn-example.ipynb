{
 "cells": [
  {
   "cell_type": "markdown",
   "id": "6d158b55-aec4-49f4-800b-fb9a41998236",
   "metadata": {},
   "source": [
    "# **THIS NOTEBOOK**: a pedagogical implementation of the neural network from Nielsen's online textbook, [Neural Networks and Deep Learning](http://neuralnetworksanddeeplearning.com/chap2.html), for recognizing handwritten digits using the MNIST dataset.\n",
    "\n",
    "Created by Spencer Hill July 2025"
   ]
  },
  {
   "cell_type": "markdown",
   "id": "5d8172ac-537a-491a-91fd-c6584342b63a",
   "metadata": {},
   "source": [
    "# Preliminaries"
   ]
  },
  {
   "cell_type": "code",
   "execution_count": 1,
   "id": "ab8ae474-dc1b-4689-87dc-db6202762973",
   "metadata": {},
   "outputs": [],
   "source": [
    "%load_ext autoreload\n",
    "%autoreload 2"
   ]
  },
  {
   "cell_type": "code",
   "execution_count": 2,
   "id": "60d1d8fd-0ccb-4d37-a283-033585249151",
   "metadata": {},
   "outputs": [],
   "source": [
    "import matplotlib.pyplot as plt\n",
    "import numpy as np\n",
    "import scipy\n",
    "import xarray as xr"
   ]
  },
  {
   "cell_type": "markdown",
   "id": "fcfa5784-39ea-4a94-bb08-a7adba05ec2c",
   "metadata": {},
   "source": [
    "# Load the MNIST data"
   ]
  },
  {
   "cell_type": "code",
   "execution_count": 3,
   "id": "94fee04d-3973-4d1d-a615-4e28d37d5f47",
   "metadata": {},
   "outputs": [],
   "source": [
    "import mnist_loader\n",
    "mnist_data_in = mnist_loader.load_data()\n",
    "training_data = mnist_data_in[0]\n",
    "validation_data = mnist_data_in[1]\n",
    "test_data = mnist_data_in[2]"
   ]
  },
  {
   "cell_type": "code",
   "execution_count": 4,
   "id": "41c99e93-8574-4118-9c3b-e20b1d2bbc5a",
   "metadata": {},
   "outputs": [
    {
     "name": "stdout",
     "output_type": "stream",
     "text": [
      "(50000, 784)\n",
      "(50000,)\n"
     ]
    },
    {
     "data": {
      "text/plain": [
       "[None, None]"
      ]
     },
     "execution_count": 4,
     "metadata": {},
     "output_type": "execute_result"
    }
   ],
   "source": [
    "[print(d.shape) for d in training_data]"
   ]
  },
  {
   "cell_type": "code",
   "execution_count": 5,
   "id": "a2f5d775-66fb-4be8-947e-3565bcc64dcb",
   "metadata": {},
   "outputs": [
    {
     "name": "stdout",
     "output_type": "stream",
     "text": [
      "(10000, 784)\n",
      "(10000,)\n"
     ]
    },
    {
     "data": {
      "text/plain": [
       "[None, None]"
      ]
     },
     "execution_count": 5,
     "metadata": {},
     "output_type": "execute_result"
    }
   ],
   "source": [
    "[print(d.shape) for d in test_data]"
   ]
  },
  {
   "cell_type": "code",
   "execution_count": 6,
   "id": "a4d4589a-eb63-499b-b8cb-ef11a6479e23",
   "metadata": {},
   "outputs": [
    {
     "name": "stdout",
     "output_type": "stream",
     "text": [
      "(10000, 784)\n",
      "(10000,)\n"
     ]
    },
    {
     "data": {
      "text/plain": [
       "[None, None]"
      ]
     },
     "execution_count": 6,
     "metadata": {},
     "output_type": "execute_result"
    }
   ],
   "source": [
    "[print(d.shape) for d in validation_data]"
   ]
  },
  {
   "cell_type": "code",
   "execution_count": 7,
   "id": "d8b4ab85-4934-414f-afef-46cb6a504d6a",
   "metadata": {},
   "outputs": [
    {
     "data": {
      "text/plain": [
       "<matplotlib.image.AxesImage at 0x13f230e00>"
      ]
     },
     "execution_count": 7,
     "metadata": {},
     "output_type": "execute_result"
    },
    {
     "data": {
      "image/png": "[encoded data removed]",
      "text/plain": [
       "<Figure size 640x480 with 1 Axes>"
      ]
     },
     "metadata": {},
     "output_type": "display_data"
    }
   ],
   "source": [
    "plt.imshow(training_data[0][0].reshape(28, 28))"
   ]
  },
  {
   "cell_type": "code",
   "execution_count": 8,
   "id": "aa380428-76f8-4dfd-b54f-6948e01a2efb",
   "metadata": {},
   "outputs": [
    {
     "data": {
      "text/plain": [
       "5"
      ]
     },
     "execution_count": 8,
     "metadata": {},
     "output_type": "execute_result"
    }
   ],
   "source": [
    "training_data[1][0]"
   ]
  },
  {
   "cell_type": "code",
   "execution_count": 9,
   "id": "753347e2-e3c1-4bea-b3d7-a7ef01f77a8b",
   "metadata": {},
   "outputs": [
    {
     "data": {
      "text/plain": [
       "<matplotlib.image.AxesImage at 0x13f29ae40>"
      ]
     },
     "execution_count": 9,
     "metadata": {},
     "output_type": "execute_result"
    },
    {
     "data": {
      "image/png": "[encoded data removed]",
      "text/plain": [
       "<Figure size 640x480 with 1 Axes>"
      ]
     },
     "metadata": {},
     "output_type": "display_data"
    }
   ],
   "source": [
    "plt.imshow(test_data[0][0].reshape(28, 28))"
   ]
  },
  {
   "cell_type": "code",
   "execution_count": 10,
   "id": "c4722f59-d573-4712-8f29-5702bb82dad3",
   "metadata": {},
   "outputs": [
    {
     "data": {
      "text/plain": [
       "7"
      ]
     },
     "execution_count": 10,
     "metadata": {},
     "output_type": "execute_result"
    }
   ],
   "source": [
    "test_data[1][0]"
   ]
  },
  {
   "cell_type": "markdown",
   "id": "16a195d1-4684-4f61-a1b8-394fa7113c0b",
   "metadata": {},
   "source": [
    "# Create the NN"
   ]
  },
  {
   "cell_type": "code",
   "execution_count": 11,
   "id": "49bb9f84-9392-4359-a48e-cbff07a41927",
   "metadata": {},
   "outputs": [],
   "source": [
    "class NeuralNet:\n",
    "    def __init__(self, neurons_per_layer, rng_seed=None):\n",
    "        \"\"\"Pedagogical implementation of Nielsen's neural network for handwritten digit recognition.\n",
    "\n",
    "        Biases: each neuron has a single bias.\n",
    "        Weights: each neuron has a weight for each of its inputs.  The input layer doesn't have any weights,\n",
    "        since each \"neuron\" in that layer takes just a single input, unweighted.\n",
    "\n",
    "        \"\"\"\n",
    "        self._num_layers = len(neurons_per_layer)                                                                               \n",
    "        self._n_per_layer = np.array(neurons_per_layer)\n",
    "        \n",
    "        # Set the weights matrix and biases for each layer after the input layer.  They are not defined\n",
    "        # for the first layer, but to simplify the indexing add a dummy \"None\" value as\n",
    "        # the first layer.\n",
    "        rng = np.random.default_rng(seed=rng_seed)\n",
    "        self._bias = [None] + [rng.normal(scale=0.1, size=num_neurons) \n",
    "                               for num_neurons in self._n_per_layer[1:]]\n",
    "        self._weight = [None] + [\n",
    "            rng.normal(scale=0.1, size=(self._n_per_layer[l], self._n_per_layer[l - 1]))\n",
    "            for l in range(1, self._num_layers)]\n",
    "\n",
    "    @staticmethod\n",
    "    def _compute_zl(weights_l, activation_lm1, bias_l):\n",
    "        \"\"\"Compute the weighted inputs z^l = w^l * a^{l-1} + b^l for each neuron in the given layer l.\"\"\"\n",
    "        wl_alm1 = np.matmul(weights_l[np.newaxis,:,:], activation_lm1[:,:,np.newaxis]).squeeze()\n",
    "        return wl_alm1 + bias_l[np.newaxis,:]\n",
    "\n",
    "    @staticmethod\n",
    "    def _act_func(zl):\n",
    "        \"\"\"Activation function, currently sigmoid.\"\"\"\n",
    "        return scipy.special.expit(zl)\n",
    "\n",
    "    @staticmethod\n",
    "    def _da_dz(zl):\n",
    "        \"\"\"Derivative of the activation function (currently sigmoid) w/r/t its input.\"\"\"\n",
    "        return scipy.special.expit(zl) * (1 - scipy.special.expit(zl))\n",
    "\n",
    "    @staticmethod\n",
    "    def _desired_as_array(arr):\n",
    "        \"\"\"Return a 10-dimensional unit vector with a 1.0 in the jth\n",
    "        position and zeroes elsewhere.  This is used to convert a digit\n",
    "        (0...9) into a corresponding desired output from the neural\n",
    "        network.\n",
    "        \n",
    "        Adapted from Nielsen's function.\n",
    "        \"\"\"\n",
    "        out = np.zeros((len(arr), 10))\n",
    "        for j, element in enumerate(arr):\n",
    "            out[j,element] = 1.0\n",
    "        return out\n",
    "\n",
    "    def stoch_grad_descent(\n",
    "        self, \n",
    "        training_data,\n",
    "        training_desired_output,\n",
    "        batch_size=10,\n",
    "        num_epochs=10,\n",
    "        learning_rate=3.0,\n",
    "        test_data=None, \n",
    "        test_desired_output=None,   \n",
    "        rng_seed=None,\n",
    "    ):\n",
    "        \"\"\"Stochastic gradient descent training.\"\"\"\n",
    "        num_batches = int(np.ceil(training_data.shape[0] / batch_size))\n",
    "        # Loop over all epochs\n",
    "        for n, epoch in enumerate(range(num_epochs)):\n",
    "            # Evalute the model's performance if test data is provided.\n",
    "            # TODO: encapsulate this logic into its own method.\n",
    "            if test_data is not None:\n",
    "                output_raw = self.feed_forward(test_data)\n",
    "                output = np.argmax(output_raw, axis=1)\n",
    "                is_correct = output == test_desired_output\n",
    "                frac_correct = is_correct.sum() / len(output)\n",
    "                print(f\"Epoch #{n}: {is_correct.sum()} / {len(output)} = {frac_correct:0.2f}\")\n",
    "\n",
    "            # Randomly shuffle the training data and desired output.\n",
    "            data_train = training_data.copy()\n",
    "            desired_output = training_desired_output.copy()\n",
    "            if rng_seed is None:\n",
    "                rng_seed = np.random.default_rng().integers(0, 2**32, size=1)[0]\n",
    "            rng_train = np.random.default_rng(seed=rng_seed)\n",
    "            rng_train.shuffle(data_train, axis=0)\n",
    "            rng_desired = np.random.default_rng(seed=rng_seed)\n",
    "            rng_desired.shuffle(desired_output, axis=0)\n",
    "            \n",
    "            # Loop over all mini batches.\n",
    "            for m in range(num_batches):\n",
    "                # Grab the random subset for this mini batch.\n",
    "                data_train_mb = data_train[m * batch_size: (m + 1) * batch_size]\n",
    "                desired_out_mb = self._desired_as_array(\n",
    "                    desired_output[m * batch_size: (m + 1) * batch_size].flatten())\n",
    "                # Initialize the error, activation, and z_l arrays\n",
    "                errors = [None] + [\n",
    "                    np.full((data_train_mb.shape[0], num_neurons), np.nan)\n",
    "                    for num_neurons in self._n_per_layer[1:]\n",
    "                ]\n",
    "                activation = [\n",
    "                    np.full((data_train_mb.shape[0], num_neurons), np.nan)\n",
    "                    for num_neurons in self._n_per_layer\n",
    "                ] \n",
    "                zl = [None] + [\n",
    "                    np.full((data_train_mb.shape[0], num_neurons), np.nan)\n",
    "                    for num_neurons in self._n_per_layer[1:]\n",
    "                ]\n",
    "\n",
    "                # Apply feedforward for each training input.\n",
    "                activation[0] = data_train_mb\n",
    "                for layer in range(1, self._num_layers):\n",
    "                    # Compute activation of each layer\n",
    "                    zl[layer] = self._compute_zl(\n",
    "                        self._weight[layer], \n",
    "                        activation[layer - 1], \n",
    "                        self._bias[layer],\n",
    "                    )\n",
    "                    activation[layer] = self._act_func(zl[layer])\n",
    "\n",
    "                # Backpropagation.\n",
    "                # Compute error of last layer.\n",
    "                dcost_dact_last = activation[-1] - desired_out_mb\n",
    "                errors[-1] = dcost_dact_last * self._da_dz(zl[-1])\n",
    "\n",
    "                # Compute errors of earlier layers from subsequent layers.\n",
    "                for layer in range(self._num_layers - 2, 0, -1):\n",
    "                    errors[layer] = np.matmul(\n",
    "                        self._weight[layer+1].transpose()[np.newaxis,:,:],\n",
    "                        errors[layer + 1][:,:,np.newaxis]).squeeze() * self._da_dz(zl[layer])\n",
    "        \n",
    "                # Update the weights and biases.\n",
    "                for layer in range(self._num_layers - 1, 0, -1):\n",
    "                    # Compute the bias and weight increments for each training input.\n",
    "                    bias_inc = errors[layer].mean(axis=0)\n",
    "                    weight_inc = np.matmul(\n",
    "                        errors[layer][:,:,np.newaxis], \n",
    "                        activation[layer - 1][:,np.newaxis,:],\n",
    "                    ).mean(axis=0)\n",
    "                    # Apply the increments.\n",
    "                    self._bias[layer] = self._bias[layer] - learning_rate * bias_inc\n",
    "                    self._weight[layer] = self._weight[layer] - learning_rate * weight_inc\n",
    "                \n",
    "\n",
    "    def feed_forward(self, inputs):\n",
    "        \"\"\"Run the NN for the given inputs.\"\"\"\n",
    "        activation = inputs\n",
    "        for layer in range(1, self._num_layers):\n",
    "            z = self._compute_zl(self._weight[layer], activation, self._bias[layer])\n",
    "            activation = self._act_func(z)\n",
    "        return activation\n",
    "        "
   ]
  },
  {
   "cell_type": "markdown",
   "id": "bce0cca5-5994-479c-84b7-0d873758cf0d",
   "metadata": {},
   "source": [
    "# Train and test the NN"
   ]
  },
  {
   "cell_type": "code",
   "execution_count": 12,
   "id": "28108970-6636-4a08-9d5b-f387baf61613",
   "metadata": {},
   "outputs": [
    {
     "name": "stdout",
     "output_type": "stream",
     "text": [
      "Epoch #0: 1020 / 10000 = 0.10\n",
      "Epoch #1: 9165 / 10000 = 0.92\n",
      "Epoch #2: 9308 / 10000 = 0.93\n",
      "Epoch #3: 9376 / 10000 = 0.94\n",
      "Epoch #4: 9413 / 10000 = 0.94\n",
      "Epoch #5: 9431 / 10000 = 0.94\n",
      "Epoch #6: 9464 / 10000 = 0.95\n",
      "Epoch #7: 9491 / 10000 = 0.95\n",
      "Epoch #8: 9513 / 10000 = 0.95\n",
      "Epoch #9: 9529 / 10000 = 0.95\n",
      "Epoch #10: 9535 / 10000 = 0.95\n",
      "Epoch #11: 9537 / 10000 = 0.95\n",
      "Epoch #12: 9547 / 10000 = 0.95\n",
      "Epoch #13: 9552 / 10000 = 0.96\n",
      "Epoch #14: 9558 / 10000 = 0.96\n",
      "Epoch #15: 9561 / 10000 = 0.96\n",
      "Epoch #16: 9563 / 10000 = 0.96\n",
      "Epoch #17: 9564 / 10000 = 0.96\n",
      "Epoch #18: 9562 / 10000 = 0.96\n",
      "Epoch #19: 9563 / 10000 = 0.96\n",
      "Epoch #20: 9567 / 10000 = 0.96\n",
      "Epoch #21: 9568 / 10000 = 0.96\n",
      "Epoch #22: 9572 / 10000 = 0.96\n",
      "Epoch #23: 9571 / 10000 = 0.96\n",
      "Epoch #24: 9569 / 10000 = 0.96\n",
      "Epoch #25: 9573 / 10000 = 0.96\n",
      "Epoch #26: 9573 / 10000 = 0.96\n",
      "Epoch #27: 9572 / 10000 = 0.96\n",
      "Epoch #28: 9572 / 10000 = 0.96\n",
      "Epoch #29: 9579 / 10000 = 0.96\n"
     ]
    }
   ],
   "source": [
    "nn = NeuralNet([784, 30, 10], rng_seed=None)\n",
    "nn.stoch_grad_descent(\n",
    "    training_data=training_data[0],\n",
    "    training_desired_output=training_data[1],\n",
    "    num_epochs=30, \n",
    "    batch_size=100,\n",
    "    learning_rate=5,\n",
    "    test_data=test_data[0], \n",
    "    test_desired_output=test_data[1], \n",
    "    rng_seed=None,\n",
    ")"
   ]
  }
 ],
 "metadata": {
  "kernelspec": {
   "display_name": "Python 3 (ipykernel)",
   "language": "python",
   "name": "python3"
  },
  "language_info": {
   "codemirror_mode": {
    "name": "ipython",
    "version": 3
   },
   "file_extension": ".py",
   "mimetype": "text/x-python",
   "name": "python",
   "nbconvert_exporter": "python",
   "pygments_lexer": "ipython3",
   "version": "3.12.4"
  }
 },
 "nbformat": 4,
 "nbformat_minor": 5
}
